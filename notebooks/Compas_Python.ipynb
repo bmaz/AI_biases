{
 "cells": [
  {
   "cell_type": "code",
   "execution_count": 281,
   "id": "otherwise-sally",
   "metadata": {},
   "outputs": [],
   "source": [
    "import pandas as pd\n",
    "import numpy as np"
   ]
  },
  {
   "cell_type": "code",
   "execution_count": 219,
   "id": "similar-donor",
   "metadata": {},
   "outputs": [],
   "source": [
    "data = pd.read_csv(\"https://raw.githubusercontent.com/propublica/compas-analysis/master/compas-scores-two-years.csv\")"
   ]
  },
  {
   "cell_type": "code",
   "execution_count": 220,
   "id": "universal-international",
   "metadata": {},
   "outputs": [
    {
     "data": {
      "text/html": [
       "<div>\n",
       "<style scoped>\n",
       "    .dataframe tbody tr th:only-of-type {\n",
       "        vertical-align: middle;\n",
       "    }\n",
       "\n",
       "    .dataframe tbody tr th {\n",
       "        vertical-align: top;\n",
       "    }\n",
       "\n",
       "    .dataframe thead th {\n",
       "        text-align: right;\n",
       "    }\n",
       "</style>\n",
       "<table border=\"1\" class=\"dataframe\">\n",
       "  <thead>\n",
       "    <tr style=\"text-align: right;\">\n",
       "      <th></th>\n",
       "      <th>id</th>\n",
       "      <th>name</th>\n",
       "      <th>first</th>\n",
       "      <th>last</th>\n",
       "      <th>compas_screening_date</th>\n",
       "      <th>sex</th>\n",
       "      <th>dob</th>\n",
       "      <th>age</th>\n",
       "      <th>age_cat</th>\n",
       "      <th>race</th>\n",
       "      <th>...</th>\n",
       "      <th>v_decile_score</th>\n",
       "      <th>v_score_text</th>\n",
       "      <th>v_screening_date</th>\n",
       "      <th>in_custody</th>\n",
       "      <th>out_custody</th>\n",
       "      <th>priors_count.1</th>\n",
       "      <th>start</th>\n",
       "      <th>end</th>\n",
       "      <th>event</th>\n",
       "      <th>two_year_recid</th>\n",
       "    </tr>\n",
       "  </thead>\n",
       "  <tbody>\n",
       "    <tr>\n",
       "      <th>4514</th>\n",
       "      <td>6896</td>\n",
       "      <td>juan prebal</td>\n",
       "      <td>juan</td>\n",
       "      <td>prebal</td>\n",
       "      <td>2013-11-30</td>\n",
       "      <td>Male</td>\n",
       "      <td>1985-02-20</td>\n",
       "      <td>31</td>\n",
       "      <td>25 - 45</td>\n",
       "      <td>Hispanic</td>\n",
       "      <td>...</td>\n",
       "      <td>9</td>\n",
       "      <td>High</td>\n",
       "      <td>2013-11-30</td>\n",
       "      <td>2014-01-17</td>\n",
       "      <td>2014-03-08</td>\n",
       "      <td>0</td>\n",
       "      <td>0</td>\n",
       "      <td>48</td>\n",
       "      <td>1</td>\n",
       "      <td>1</td>\n",
       "    </tr>\n",
       "    <tr>\n",
       "      <th>5285</th>\n",
       "      <td>8060</td>\n",
       "      <td>robert schoen</td>\n",
       "      <td>robert</td>\n",
       "      <td>schoen</td>\n",
       "      <td>2013-05-13</td>\n",
       "      <td>Male</td>\n",
       "      <td>1953-12-03</td>\n",
       "      <td>62</td>\n",
       "      <td>Greater than 45</td>\n",
       "      <td>Caucasian</td>\n",
       "      <td>...</td>\n",
       "      <td>1</td>\n",
       "      <td>Low</td>\n",
       "      <td>2013-05-13</td>\n",
       "      <td>2013-05-12</td>\n",
       "      <td>2013-05-15</td>\n",
       "      <td>0</td>\n",
       "      <td>2</td>\n",
       "      <td>1054</td>\n",
       "      <td>0</td>\n",
       "      <td>0</td>\n",
       "    </tr>\n",
       "    <tr>\n",
       "      <th>3984</th>\n",
       "      <td>6079</td>\n",
       "      <td>gayvon garrett</td>\n",
       "      <td>gayvon</td>\n",
       "      <td>garrett</td>\n",
       "      <td>2013-04-01</td>\n",
       "      <td>Male</td>\n",
       "      <td>1974-07-13</td>\n",
       "      <td>41</td>\n",
       "      <td>25 - 45</td>\n",
       "      <td>African-American</td>\n",
       "      <td>...</td>\n",
       "      <td>3</td>\n",
       "      <td>Low</td>\n",
       "      <td>2013-04-01</td>\n",
       "      <td>NaN</td>\n",
       "      <td>NaN</td>\n",
       "      <td>3</td>\n",
       "      <td>0</td>\n",
       "      <td>1096</td>\n",
       "      <td>0</td>\n",
       "      <td>0</td>\n",
       "    </tr>\n",
       "    <tr>\n",
       "      <th>3302</th>\n",
       "      <td>5058</td>\n",
       "      <td>jordan johnson</td>\n",
       "      <td>jordan</td>\n",
       "      <td>johnson</td>\n",
       "      <td>2014-09-27</td>\n",
       "      <td>Male</td>\n",
       "      <td>1993-02-02</td>\n",
       "      <td>23</td>\n",
       "      <td>Less than 25</td>\n",
       "      <td>African-American</td>\n",
       "      <td>...</td>\n",
       "      <td>8</td>\n",
       "      <td>High</td>\n",
       "      <td>2014-09-27</td>\n",
       "      <td>2015-02-16</td>\n",
       "      <td>2015-02-24</td>\n",
       "      <td>3</td>\n",
       "      <td>52</td>\n",
       "      <td>142</td>\n",
       "      <td>0</td>\n",
       "      <td>1</td>\n",
       "    </tr>\n",
       "    <tr>\n",
       "      <th>6821</th>\n",
       "      <td>10402</td>\n",
       "      <td>philip jamison</td>\n",
       "      <td>philip</td>\n",
       "      <td>jamison</td>\n",
       "      <td>2013-05-18</td>\n",
       "      <td>Male</td>\n",
       "      <td>1961-01-19</td>\n",
       "      <td>55</td>\n",
       "      <td>Greater than 45</td>\n",
       "      <td>Caucasian</td>\n",
       "      <td>...</td>\n",
       "      <td>1</td>\n",
       "      <td>Low</td>\n",
       "      <td>2013-05-18</td>\n",
       "      <td>2013-05-17</td>\n",
       "      <td>2013-05-30</td>\n",
       "      <td>2</td>\n",
       "      <td>12</td>\n",
       "      <td>1049</td>\n",
       "      <td>0</td>\n",
       "      <td>0</td>\n",
       "    </tr>\n",
       "  </tbody>\n",
       "</table>\n",
       "<p>5 rows × 53 columns</p>\n",
       "</div>"
      ],
      "text/plain": [
       "         id            name   first     last compas_screening_date   sex  \\\n",
       "4514   6896     juan prebal    juan   prebal            2013-11-30  Male   \n",
       "5285   8060   robert schoen  robert   schoen            2013-05-13  Male   \n",
       "3984   6079  gayvon garrett  gayvon  garrett            2013-04-01  Male   \n",
       "3302   5058  jordan johnson  jordan  johnson            2014-09-27  Male   \n",
       "6821  10402  philip jamison  philip  jamison            2013-05-18  Male   \n",
       "\n",
       "             dob  age          age_cat              race  ...  v_decile_score  \\\n",
       "4514  1985-02-20   31          25 - 45          Hispanic  ...               9   \n",
       "5285  1953-12-03   62  Greater than 45         Caucasian  ...               1   \n",
       "3984  1974-07-13   41          25 - 45  African-American  ...               3   \n",
       "3302  1993-02-02   23     Less than 25  African-American  ...               8   \n",
       "6821  1961-01-19   55  Greater than 45         Caucasian  ...               1   \n",
       "\n",
       "      v_score_text  v_screening_date  in_custody  out_custody  priors_count.1  \\\n",
       "4514          High        2013-11-30  2014-01-17   2014-03-08               0   \n",
       "5285           Low        2013-05-13  2013-05-12   2013-05-15               0   \n",
       "3984           Low        2013-04-01         NaN          NaN               3   \n",
       "3302          High        2014-09-27  2015-02-16   2015-02-24               3   \n",
       "6821           Low        2013-05-18  2013-05-17   2013-05-30               2   \n",
       "\n",
       "     start   end event two_year_recid  \n",
       "4514     0    48     1              1  \n",
       "5285     2  1054     0              0  \n",
       "3984     0  1096     0              0  \n",
       "3302    52   142     0              1  \n",
       "6821    12  1049     0              0  \n",
       "\n",
       "[5 rows x 53 columns]"
      ]
     },
     "execution_count": 220,
     "metadata": {},
     "output_type": "execute_result"
    }
   ],
   "source": [
    "data.sample(5)"
   ]
  },
  {
   "cell_type": "code",
   "execution_count": 222,
   "id": "color-diversity",
   "metadata": {},
   "outputs": [
    {
     "data": {
      "text/html": [
       "<div>\n",
       "<style scoped>\n",
       "    .dataframe tbody tr th:only-of-type {\n",
       "        vertical-align: middle;\n",
       "    }\n",
       "\n",
       "    .dataframe tbody tr th {\n",
       "        vertical-align: top;\n",
       "    }\n",
       "\n",
       "    .dataframe thead th {\n",
       "        text-align: right;\n",
       "    }\n",
       "</style>\n",
       "<table border=\"1\" class=\"dataframe\">\n",
       "  <thead>\n",
       "    <tr style=\"text-align: right;\">\n",
       "      <th></th>\n",
       "      <th>race</th>\n",
       "      <th>v_decile_score</th>\n",
       "      <th>v_score_text</th>\n",
       "      <th>two_year_recid</th>\n",
       "    </tr>\n",
       "  </thead>\n",
       "  <tbody>\n",
       "    <tr>\n",
       "      <th>count</th>\n",
       "      <td>7214</td>\n",
       "      <td>7214.000000</td>\n",
       "      <td>7214</td>\n",
       "      <td>7214.000000</td>\n",
       "    </tr>\n",
       "    <tr>\n",
       "      <th>unique</th>\n",
       "      <td>6</td>\n",
       "      <td>NaN</td>\n",
       "      <td>3</td>\n",
       "      <td>NaN</td>\n",
       "    </tr>\n",
       "    <tr>\n",
       "      <th>top</th>\n",
       "      <td>African-American</td>\n",
       "      <td>NaN</td>\n",
       "      <td>Low</td>\n",
       "      <td>NaN</td>\n",
       "    </tr>\n",
       "    <tr>\n",
       "      <th>freq</th>\n",
       "      <td>3696</td>\n",
       "      <td>NaN</td>\n",
       "      <td>4761</td>\n",
       "      <td>NaN</td>\n",
       "    </tr>\n",
       "    <tr>\n",
       "      <th>mean</th>\n",
       "      <td>NaN</td>\n",
       "      <td>3.691849</td>\n",
       "      <td>NaN</td>\n",
       "      <td>0.450652</td>\n",
       "    </tr>\n",
       "    <tr>\n",
       "      <th>std</th>\n",
       "      <td>NaN</td>\n",
       "      <td>2.510148</td>\n",
       "      <td>NaN</td>\n",
       "      <td>0.497593</td>\n",
       "    </tr>\n",
       "    <tr>\n",
       "      <th>min</th>\n",
       "      <td>NaN</td>\n",
       "      <td>1.000000</td>\n",
       "      <td>NaN</td>\n",
       "      <td>0.000000</td>\n",
       "    </tr>\n",
       "    <tr>\n",
       "      <th>25%</th>\n",
       "      <td>NaN</td>\n",
       "      <td>1.000000</td>\n",
       "      <td>NaN</td>\n",
       "      <td>0.000000</td>\n",
       "    </tr>\n",
       "    <tr>\n",
       "      <th>50%</th>\n",
       "      <td>NaN</td>\n",
       "      <td>3.000000</td>\n",
       "      <td>NaN</td>\n",
       "      <td>0.000000</td>\n",
       "    </tr>\n",
       "    <tr>\n",
       "      <th>75%</th>\n",
       "      <td>NaN</td>\n",
       "      <td>5.000000</td>\n",
       "      <td>NaN</td>\n",
       "      <td>1.000000</td>\n",
       "    </tr>\n",
       "    <tr>\n",
       "      <th>max</th>\n",
       "      <td>NaN</td>\n",
       "      <td>10.000000</td>\n",
       "      <td>NaN</td>\n",
       "      <td>1.000000</td>\n",
       "    </tr>\n",
       "  </tbody>\n",
       "</table>\n",
       "</div>"
      ],
      "text/plain": [
       "                    race  v_decile_score v_score_text  two_year_recid\n",
       "count               7214     7214.000000         7214     7214.000000\n",
       "unique                 6             NaN            3             NaN\n",
       "top     African-American             NaN          Low             NaN\n",
       "freq                3696             NaN         4761             NaN\n",
       "mean                 NaN        3.691849          NaN        0.450652\n",
       "std                  NaN        2.510148          NaN        0.497593\n",
       "min                  NaN        1.000000          NaN        0.000000\n",
       "25%                  NaN        1.000000          NaN        0.000000\n",
       "50%                  NaN        3.000000          NaN        0.000000\n",
       "75%                  NaN        5.000000          NaN        1.000000\n",
       "max                  NaN       10.000000          NaN        1.000000"
      ]
     },
     "execution_count": 222,
     "metadata": {},
     "output_type": "execute_result"
    }
   ],
   "source": [
    "data[[\"race\", \"v_decile_score\", \"v_score_text\", \"two_year_recid\"]].describe(include=\"all\")"
   ]
  },
  {
   "cell_type": "code",
   "execution_count": 223,
   "id": "aerial-title",
   "metadata": {},
   "outputs": [
    {
     "data": {
      "text/plain": [
       "(7214, 53)"
      ]
     },
     "execution_count": 223,
     "metadata": {},
     "output_type": "execute_result"
    }
   ],
   "source": [
    "data.shape"
   ]
  },
  {
   "cell_type": "code",
   "execution_count": 224,
   "id": "vanilla-heath",
   "metadata": {},
   "outputs": [
    {
     "data": {
      "text/plain": [
       "race\n",
       "Native American       18\n",
       "Asian                 32\n",
       "Other                377\n",
       "Hispanic             637\n",
       "Caucasian           2454\n",
       "African-American    3696\n",
       "dtype: int64"
      ]
     },
     "execution_count": 224,
     "metadata": {},
     "output_type": "execute_result"
    }
   ],
   "source": [
    "race_ratio = data.groupby(\"race\").size().sort_values()\n",
    "race_ratio"
   ]
  },
  {
   "cell_type": "markdown",
   "id": "floating-medium",
   "metadata": {},
   "source": [
    "# Exercise \n",
    "Can you find the number of defendants classified in each category (\"**Low**\", \"**Medium**\" and \"**High**\" risk) by COMPAS?"
   ]
  },
  {
   "cell_type": "code",
   "execution_count": null,
   "id": "adequate-grammar",
   "metadata": {},
   "outputs": [],
   "source": []
  },
  {
   "cell_type": "markdown",
   "id": "lucky-tribute",
   "metadata": {},
   "source": [
    "In the rest of this notebook, we will simplify the prediction as a binary classification : we mark scores other than “low” as higher risk, in a variable called \"**prediction**\"."
   ]
  },
  {
   "cell_type": "code",
   "execution_count": 228,
   "id": "entire-citizenship",
   "metadata": {},
   "outputs": [],
   "source": [
    "data[\"prediction\"] = (data.score_text != \"Low\").astype(int)"
   ]
  },
  {
   "cell_type": "markdown",
   "id": "cooked-section",
   "metadata": {},
   "source": [
    "We can now compare our predicted variable (\"**prediction**\") to the real outcome (\"**two_year_recid**\")"
   ]
  },
  {
   "cell_type": "code",
   "execution_count": 229,
   "id": "outdoor-scroll",
   "metadata": {},
   "outputs": [
    {
     "data": {
      "text/html": [
       "<div>\n",
       "<style scoped>\n",
       "    .dataframe tbody tr th:only-of-type {\n",
       "        vertical-align: middle;\n",
       "    }\n",
       "\n",
       "    .dataframe tbody tr th {\n",
       "        vertical-align: top;\n",
       "    }\n",
       "\n",
       "    .dataframe thead th {\n",
       "        text-align: right;\n",
       "    }\n",
       "</style>\n",
       "<table border=\"1\" class=\"dataframe\">\n",
       "  <thead>\n",
       "    <tr style=\"text-align: right;\">\n",
       "      <th></th>\n",
       "      <th>prediction</th>\n",
       "      <th>two_year_recid</th>\n",
       "    </tr>\n",
       "  </thead>\n",
       "  <tbody>\n",
       "    <tr>\n",
       "      <th>count</th>\n",
       "      <td>7214.000000</td>\n",
       "      <td>7214.000000</td>\n",
       "    </tr>\n",
       "    <tr>\n",
       "      <th>mean</th>\n",
       "      <td>0.459800</td>\n",
       "      <td>0.450652</td>\n",
       "    </tr>\n",
       "    <tr>\n",
       "      <th>std</th>\n",
       "      <td>0.498416</td>\n",
       "      <td>0.497593</td>\n",
       "    </tr>\n",
       "    <tr>\n",
       "      <th>min</th>\n",
       "      <td>0.000000</td>\n",
       "      <td>0.000000</td>\n",
       "    </tr>\n",
       "    <tr>\n",
       "      <th>25%</th>\n",
       "      <td>0.000000</td>\n",
       "      <td>0.000000</td>\n",
       "    </tr>\n",
       "    <tr>\n",
       "      <th>50%</th>\n",
       "      <td>0.000000</td>\n",
       "      <td>0.000000</td>\n",
       "    </tr>\n",
       "    <tr>\n",
       "      <th>75%</th>\n",
       "      <td>1.000000</td>\n",
       "      <td>1.000000</td>\n",
       "    </tr>\n",
       "    <tr>\n",
       "      <th>max</th>\n",
       "      <td>1.000000</td>\n",
       "      <td>1.000000</td>\n",
       "    </tr>\n",
       "  </tbody>\n",
       "</table>\n",
       "</div>"
      ],
      "text/plain": [
       "        prediction  two_year_recid\n",
       "count  7214.000000     7214.000000\n",
       "mean      0.459800        0.450652\n",
       "std       0.498416        0.497593\n",
       "min       0.000000        0.000000\n",
       "25%       0.000000        0.000000\n",
       "50%       0.000000        0.000000\n",
       "75%       1.000000        1.000000\n",
       "max       1.000000        1.000000"
      ]
     },
     "execution_count": 229,
     "metadata": {},
     "output_type": "execute_result"
    }
   ],
   "source": [
    "data[[\"prediction\", \"two_year_recid\"]].describe()"
   ]
  },
  {
   "cell_type": "markdown",
   "id": "regular-summit",
   "metadata": {},
   "source": [
    "# First visualization"
   ]
  },
  {
   "cell_type": "code",
   "execution_count": 258,
   "id": "medium-female",
   "metadata": {},
   "outputs": [],
   "source": [
    "import seaborn as sns\n",
    "import matplotlib.pyplot as plt\n",
    "sns.set_style(\"darkgrid\")\n",
    "sns.set(font_scale=1.3)"
   ]
  },
  {
   "cell_type": "markdown",
   "id": "brilliant-maintenance",
   "metadata": {},
   "source": [
    "Judges are often presented with two sets of scores from the Compas system -- one that classifies people into High, Medium and Low risk, and a corresponding decile score. There is a clear downward trend in the decile scores as those scores increase for white defendants."
   ]
  },
  {
   "cell_type": "code",
   "execution_count": 259,
   "id": "framed-census",
   "metadata": {},
   "outputs": [
    {
     "data": {
      "image/png": "[encoded data removed]",
      "text/plain": [
       "<Figure size 360x360 with 1 Axes>"
      ]
     },
     "metadata": {},
     "output_type": "display_data"
    }
   ],
   "source": [
    "white = data[data.race == \"Caucasian\"]\n",
    "sns.displot(white, x=\"decile_score\", discrete=True)\n",
    "plt.title(\"White Defendant's Decile Scores\")\n",
    "plt.show()"
   ]
  },
  {
   "cell_type": "markdown",
   "id": "settled-stewart",
   "metadata": {},
   "source": [
    "## Exercise\n",
    "Can you plot the Compas decile score for Black defendants?"
   ]
  },
  {
   "cell_type": "code",
   "execution_count": 301,
   "id": "invisible-police",
   "metadata": {},
   "outputs": [
    {
     "data": {
      "image/png": "[encoded data removed]",
      "text/plain": [
       "<Figure size 360x360 with 1 Axes>"
      ]
     },
     "metadata": {},
     "output_type": "display_data"
    }
   ],
   "source": [
    "black = data[data.race == \"African-American\"]\n",
    "sns.displot(black, x=\"decile_score\", discrete=True)\n",
    "plt.title(\"Black Defendant's Decile Scores\")\n",
    "plt.show()"
   ]
  },
  {
   "cell_type": "markdown",
   "id": "amended-ensemble",
   "metadata": {},
   "source": [
    "# Confusion matrix\n",
    "Let's assess the number of true positives, true negatives, false positives and false negatives predicted by COMPAS."
   ]
  },
  {
   "cell_type": "code",
   "execution_count": 302,
   "id": "gross-undergraduate",
   "metadata": {},
   "outputs": [
    {
     "data": {
      "text/plain": [
       "2035"
      ]
     },
     "execution_count": 302,
     "metadata": {},
     "output_type": "execute_result"
    }
   ],
   "source": [
    "true_positives = data[(data[\"two_year_recid\"] == 1) & (data[\"prediction\"] == 1)]\n",
    "len(true_positives)"
   ]
  },
  {
   "cell_type": "code",
   "execution_count": 303,
   "id": "cooked-newport",
   "metadata": {},
   "outputs": [
    {
     "data": {
      "text/plain": [
       "2681"
      ]
     },
     "execution_count": 303,
     "metadata": {},
     "output_type": "execute_result"
    }
   ],
   "source": [
    "true_negatives = data[(data[\"two_year_recid\"] == 0) & (data[\"prediction\"] == 0)]\n",
    "len(true_negatives)"
   ]
  },
  {
   "cell_type": "markdown",
   "id": "published-lexington",
   "metadata": {},
   "source": [
    "## Exercise\n",
    "Please compute the 2 remaining values"
   ]
  },
  {
   "cell_type": "code",
   "execution_count": null,
   "id": "incorporate-benchmark",
   "metadata": {},
   "outputs": [],
   "source": [
    "false_positives = \n",
    "len(false_positives)"
   ]
  },
  {
   "cell_type": "code",
   "execution_count": null,
   "id": "loved-berlin",
   "metadata": {},
   "outputs": [],
   "source": [
    "false_negatives =\n",
    "len(false_negatives)"
   ]
  },
  {
   "cell_type": "markdown",
   "id": "motivated-investigation",
   "metadata": {},
   "source": [
    "scikit learn provides a function that does the computation for you:"
   ]
  },
  {
   "cell_type": "code",
   "execution_count": 304,
   "id": "rural-packing",
   "metadata": {},
   "outputs": [],
   "source": [
    "from sklearn.metrics import confusion_matrix, ConfusionMatrixDisplay"
   ]
  },
  {
   "cell_type": "code",
   "execution_count": 305,
   "id": "damaged-england",
   "metadata": {},
   "outputs": [
    {
     "data": {
      "text/plain": [
       "array([[2681, 1282],\n",
       "       [1216, 2035]])"
      ]
     },
     "execution_count": 305,
     "metadata": {},
     "output_type": "execute_result"
    }
   ],
   "source": [
    "cm = confusion_matrix(data[\"two_year_recid\"], data[\"prediction\"])\n",
    "cm"
   ]
  },
  {
   "cell_type": "markdown",
   "id": "suffering-level",
   "metadata": {},
   "source": [
    "In jupyter notebooks, you can easily access the documentation concerning a function by writing its name followed by a question mark."
   ]
  },
  {
   "cell_type": "code",
   "execution_count": 306,
   "id": "public-hours",
   "metadata": {},
   "outputs": [
    {
     "data": {
      "text/plain": [
       "\u001b[0;31mSignature:\u001b[0m\n",
       "\u001b[0mconfusion_matrix\u001b[0m\u001b[0;34m(\u001b[0m\u001b[0;34m\u001b[0m\n",
       "\u001b[0;34m\u001b[0m    \u001b[0my_true\u001b[0m\u001b[0;34m,\u001b[0m\u001b[0;34m\u001b[0m\n",
       "\u001b[0;34m\u001b[0m    \u001b[0my_pred\u001b[0m\u001b[0;34m,\u001b[0m\u001b[0;34m\u001b[0m\n",
       "\u001b[0;34m\u001b[0m    \u001b[0;34m*\u001b[0m\u001b[0;34m,\u001b[0m\u001b[0;34m\u001b[0m\n",
       "\u001b[0;34m\u001b[0m    \u001b[0mlabels\u001b[0m\u001b[0;34m=\u001b[0m\u001b[0;32mNone\u001b[0m\u001b[0;34m,\u001b[0m\u001b[0;34m\u001b[0m\n",
       "\u001b[0;34m\u001b[0m    \u001b[0msample_weight\u001b[0m\u001b[0;34m=\u001b[0m\u001b[0;32mNone\u001b[0m\u001b[0;34m,\u001b[0m\u001b[0;34m\u001b[0m\n",
       "\u001b[0;34m\u001b[0m    \u001b[0mnormalize\u001b[0m\u001b[0;34m=\u001b[0m\u001b[0;32mNone\u001b[0m\u001b[0;34m,\u001b[0m\u001b[0;34m\u001b[0m\n",
       "\u001b[0;34m\u001b[0m\u001b[0;34m)\u001b[0m\u001b[0;34m\u001b[0m\u001b[0m\n",
       "\u001b[0;31mDocstring:\u001b[0m\n",
       "Compute confusion matrix to evaluate the accuracy of a classification.\n",
       "\n",
       "By definition a confusion matrix :math:`C` is such that :math:`C_{i, j}`\n",
       "is equal to the number of observations known to be in group :math:`i` and\n",
       "predicted to be in group :math:`j`.\n",
       "\n",
       "Thus in binary classification, the count of true negatives is\n",
       ":math:`C_{0,0}`, false negatives is :math:`C_{1,0}`, true positives is\n",
       ":math:`C_{1,1}` and false positives is :math:`C_{0,1}`.\n",
       "\n",
       "Read more in the :ref:`User Guide <confusion_matrix>`.\n",
       "\n",
       "Parameters\n",
       "----------\n",
       "y_true : array-like of shape (n_samples,)\n",
       "    Ground truth (correct) target values.\n",
       "\n",
       "y_pred : array-like of shape (n_samples,)\n",
       "    Estimated targets as returned by a classifier.\n",
       "\n",
       "labels : array-like of shape (n_classes), default=None\n",
       "    List of labels to index the matrix. This may be used to reorder\n",
       "    or select a subset of labels.\n",
       "    If ``None`` is given, those that appear at least once\n",
       "    in ``y_true`` or ``y_pred`` are used in sorted order.\n",
       "\n",
       "sample_weight : array-like of shape (n_samples,), default=None\n",
       "    Sample weights.\n",
       "\n",
       "    .. versionadded:: 0.18\n",
       "\n",
       "normalize : {'true', 'pred', 'all'}, default=None\n",
       "    Normalizes confusion matrix over the true (rows), predicted (columns)\n",
       "    conditions or all the population. If None, confusion matrix will not be\n",
       "    normalized.\n",
       "\n",
       "Returns\n",
       "-------\n",
       "C : ndarray of shape (n_classes, n_classes)\n",
       "    Confusion matrix whose i-th row and j-th\n",
       "    column entry indicates the number of\n",
       "    samples with true label being i-th class\n",
       "    and predicted label being j-th class.\n",
       "\n",
       "See Also\n",
       "--------\n",
       "plot_confusion_matrix : Plot Confusion Matrix.\n",
       "ConfusionMatrixDisplay : Confusion Matrix visualization.\n",
       "\n",
       "References\n",
       "----------\n",
       ".. [1] `Wikipedia entry for the Confusion matrix\n",
       "       <https://en.wikipedia.org/wiki/Confusion_matrix>`_\n",
       "       (Wikipedia and other references may use a different\n",
       "       convention for axes).\n",
       "\n",
       "Examples\n",
       "--------\n",
       ">>> from sklearn.metrics import confusion_matrix\n",
       ">>> y_true = [2, 0, 2, 2, 0, 1]\n",
       ">>> y_pred = [0, 0, 2, 2, 0, 2]\n",
       ">>> confusion_matrix(y_true, y_pred)\n",
       "array([[2, 0, 0],\n",
       "       [0, 0, 1],\n",
       "       [1, 0, 2]])\n",
       "\n",
       ">>> y_true = [\"cat\", \"ant\", \"cat\", \"cat\", \"ant\", \"bird\"]\n",
       ">>> y_pred = [\"ant\", \"ant\", \"cat\", \"cat\", \"ant\", \"cat\"]\n",
       ">>> confusion_matrix(y_true, y_pred, labels=[\"ant\", \"bird\", \"cat\"])\n",
       "array([[2, 0, 0],\n",
       "       [0, 0, 1],\n",
       "       [1, 0, 2]])\n",
       "\n",
       "In the binary case, we can extract true positives, etc as follows:\n",
       "\n",
       ">>> tn, fp, fn, tp = confusion_matrix([0, 1, 0, 1], [1, 1, 1, 0]).ravel()\n",
       ">>> (tn, fp, fn, tp)\n",
       "(0, 2, 1, 1)\n",
       "\u001b[0;31mFile:\u001b[0m      ~/miniconda3/envs/jupyenv/lib/python3.6/site-packages/sklearn/metrics/_classification.py\n",
       "\u001b[0;31mType:\u001b[0m      function\n"
      ]
     },
     "metadata": {},
     "output_type": "display_data"
    }
   ],
   "source": [
    "confusion_matrix?"
   ]
  },
  {
   "cell_type": "code",
   "execution_count": 307,
   "id": "reflected-elephant",
   "metadata": {},
   "outputs": [
    {
     "data": {
      "text/plain": [
       "\u001b[0;31mInit signature:\u001b[0m \u001b[0mConfusionMatrixDisplay\u001b[0m\u001b[0;34m(\u001b[0m\u001b[0mconfusion_matrix\u001b[0m\u001b[0;34m,\u001b[0m \u001b[0;34m*\u001b[0m\u001b[0;34m,\u001b[0m \u001b[0mdisplay_labels\u001b[0m\u001b[0;34m=\u001b[0m\u001b[0;32mNone\u001b[0m\u001b[0;34m)\u001b[0m\u001b[0;34m\u001b[0m\u001b[0m\n",
       "\u001b[0;31mDocstring:\u001b[0m     \n",
       "Confusion Matrix visualization.\n",
       "\n",
       "It is recommend to use :func:`~sklearn.metrics.plot_confusion_matrix` to\n",
       "create a :class:`ConfusionMatrixDisplay`. All parameters are stored as\n",
       "attributes.\n",
       "\n",
       "Read more in the :ref:`User Guide <visualizations>`.\n",
       "\n",
       "Parameters\n",
       "----------\n",
       "confusion_matrix : ndarray of shape (n_classes, n_classes)\n",
       "    Confusion matrix.\n",
       "\n",
       "display_labels : ndarray of shape (n_classes,), default=None\n",
       "    Display labels for plot. If None, display labels are set from 0 to\n",
       "    `n_classes - 1`.\n",
       "\n",
       "Attributes\n",
       "----------\n",
       "im_ : matplotlib AxesImage\n",
       "    Image representing the confusion matrix.\n",
       "\n",
       "text_ : ndarray of shape (n_classes, n_classes), dtype=matplotlib Text,             or None\n",
       "    Array of matplotlib axes. `None` if `include_values` is false.\n",
       "\n",
       "ax_ : matplotlib Axes\n",
       "    Axes with confusion matrix.\n",
       "\n",
       "figure_ : matplotlib Figure\n",
       "    Figure containing the confusion matrix.\n",
       "\n",
       "See Also\n",
       "--------\n",
       "confusion_matrix : Compute Confusion Matrix to evaluate the accuracy of a\n",
       "    classification.\n",
       "plot_confusion_matrix : Plot Confusion Matrix.\n",
       "\n",
       "Examples\n",
       "--------\n",
       ">>> from sklearn.datasets import make_classification\n",
       ">>> from sklearn.metrics import confusion_matrix, ConfusionMatrixDisplay\n",
       ">>> from sklearn.model_selection import train_test_split\n",
       ">>> from sklearn.svm import SVC\n",
       ">>> X, y = make_classification(random_state=0)\n",
       ">>> X_train, X_test, y_train, y_test = train_test_split(X, y,\n",
       "...                                                     random_state=0)\n",
       ">>> clf = SVC(random_state=0)\n",
       ">>> clf.fit(X_train, y_train)\n",
       "SVC(random_state=0)\n",
       ">>> predictions = clf.predict(X_test)\n",
       ">>> cm = confusion_matrix(y_test, predictions, labels=clf.classes_)\n",
       ">>> disp = ConfusionMatrixDisplay(confusion_matrix=cm,\n",
       "...                               display_labels=clf.classes_)\n",
       ">>> disp.plot() # doctest: +SKIP\n",
       "\u001b[0;31mFile:\u001b[0m           ~/miniconda3/envs/jupyenv/lib/python3.6/site-packages/sklearn/metrics/_plot/confusion_matrix.py\n",
       "\u001b[0;31mType:\u001b[0m           type\n",
       "\u001b[0;31mSubclasses:\u001b[0m     \n"
      ]
     },
     "metadata": {},
     "output_type": "display_data"
    }
   ],
   "source": [
    "ConfusionMatrixDisplay?"
   ]
  },
  {
   "cell_type": "code",
   "execution_count": 278,
   "id": "computational-diversity",
   "metadata": {},
   "outputs": [
    {
     "data": {
      "text/plain": [
       "<sklearn.metrics._plot.confusion_matrix.ConfusionMatrixDisplay at 0x7fb2645dfc50>"
      ]
     },
     "execution_count": 278,
     "metadata": {},
     "output_type": "execute_result"
    },
    {
     "data": {
      "image/png": "[encoded data removed]",
      "text/plain": [
       "<Figure size 432x288 with 2 Axes>"
      ]
     },
     "metadata": {},
     "output_type": "display_data"
    }
   ],
   "source": [
    "display = ConfusionMatrixDisplay(cm)\n",
    "display.plot(cmap='Blues')"
   ]
  },
  {
   "cell_type": "markdown",
   "id": "attractive-technology",
   "metadata": {},
   "source": [
    "We can use seaborn to make the matrix event clearer"
   ]
  },
  {
   "cell_type": "code",
   "execution_count": 271,
   "id": "north-roulette",
   "metadata": {},
   "outputs": [],
   "source": [
    "def display_matrix(dataframe):\n",
    "    sns.heatmap(\n",
    "        confusion_matrix(dataframe[\"two_year_recid\"], dataframe[\"prediction\"])/len(dataframe), \n",
    "        annot=True, \n",
    "        fmt='.2%', \n",
    "        cmap=\"Blues\",\n",
    "        yticklabels=[\"did not reoffend\", \"did reoffend\"],\n",
    "        xticklabels=[\"low risk\", \"high risk\"],\n",
    "        vmin=0.15,\n",
    "        vmax=0.4\n",
    "    )\n",
    "    plt.xlabel(\"predicted label\") \n",
    "    plt.ylabel(\"true label\")\n",
    "    plt.show()"
   ]
  },
  {
   "cell_type": "code",
   "execution_count": 272,
   "id": "unique-forestry",
   "metadata": {},
   "outputs": [
    {
     "data": {
      "image/png": "[encoded data removed]",
      "text/plain": [
       "<Figure size 432x288 with 2 Axes>"
      ]
     },
     "metadata": {},
     "output_type": "display_data"
    }
   ],
   "source": [
    "display_matrix(data)"
   ]
  },
  {
   "cell_type": "code",
   "execution_count": 273,
   "id": "destroyed-affiliation",
   "metadata": {},
   "outputs": [],
   "source": [
    "white = data[data.race == \"Caucasian\"]"
   ]
  },
  {
   "cell_type": "code",
   "execution_count": 274,
   "id": "piano-elimination",
   "metadata": {},
   "outputs": [],
   "source": [
    "black = data[data.race == \"African-American\"]"
   ]
  },
  {
   "cell_type": "code",
   "execution_count": 275,
   "id": "unlimited-yemen",
   "metadata": {},
   "outputs": [
    {
     "data": {
      "image/png": "[encoded data removed]",
      "text/plain": [
       "<Figure size 432x288 with 2 Axes>"
      ]
     },
     "metadata": {},
     "output_type": "display_data"
    }
   ],
   "source": [
    "display_matrix(black)"
   ]
  },
  {
   "cell_type": "code",
   "execution_count": 276,
   "id": "operating-routine",
   "metadata": {},
   "outputs": [
    {
     "data": {
      "image/png": "[encoded data removed]",
      "text/plain": [
       "<Figure size 432x288 with 2 Axes>"
      ]
     },
     "metadata": {},
     "output_type": "display_data"
    }
   ],
   "source": [
    "display_matrix(white)"
   ]
  },
  {
   "cell_type": "markdown",
   "id": "legislative-virus",
   "metadata": {},
   "source": [
    "accuracy\n",
    "precision\n",
    "recall\n",
    "# disparate impact / demographic parity / statistical parity\n"
   ]
  },
  {
   "cell_type": "markdown",
   "id": "automated-zambia",
   "metadata": {},
   "source": [
    "We expect the positive rate to be the same for each group\n",
    "\n",
    "$P( \\hat{y} = 1 | S = 1) - P( \\hat{y} = 1 | S \\neq 1) \\leq \\epsilon$"
   ]
  },
  {
   "cell_type": "code",
   "execution_count": 295,
   "id": "lasting-opposition",
   "metadata": {},
   "outputs": [],
   "source": [
    "p_yhat_given_black = len(black[black[\"prediction\"]==1])/len(black)\n",
    "p_yhat_given_white = len(white[white[\"prediction\"]==1])/len(white)"
   ]
  },
  {
   "cell_type": "code",
   "execution_count": 296,
   "id": "endless-sheep",
   "metadata": {},
   "outputs": [
    {
     "data": {
      "text/plain": [
       "0.5882034632034632"
      ]
     },
     "execution_count": 296,
     "metadata": {},
     "output_type": "execute_result"
    }
   ],
   "source": [
    "p_yhat_given_black"
   ]
  },
  {
   "cell_type": "code",
   "execution_count": 297,
   "id": "horizontal-workstation",
   "metadata": {},
   "outputs": [
    {
     "data": {
      "text/plain": [
       "0.3480032599837001"
      ]
     },
     "execution_count": 297,
     "metadata": {},
     "output_type": "execute_result"
    }
   ],
   "source": [
    "p_yhat_given_white"
   ]
  },
  {
   "cell_type": "code",
   "execution_count": 298,
   "id": "confident-patio",
   "metadata": {},
   "outputs": [
    {
     "data": {
      "text/plain": [
       "0.2402002032197631"
      ]
     },
     "execution_count": 298,
     "metadata": {},
     "output_type": "execute_result"
    }
   ],
   "source": [
    "p_yhat_given_black - p_yhat_given_white"
   ]
  },
  {
   "cell_type": "markdown",
   "id": "circular-baptist",
   "metadata": {},
   "source": [
    "Problem: a fully accurate classifier may be considered\n",
    "unfair, when the base rates (i.e., the proportion of actual positive outcomes) of the various\n",
    "groups are significantly different."
   ]
  },
  {
   "cell_type": "code",
   "execution_count": 310,
   "id": "broken-indianapolis",
   "metadata": {},
   "outputs": [],
   "source": [
    "p_y_given_black = len(black[black[\"two_year_recid\"]==1])/len(black)"
   ]
  },
  {
   "cell_type": "code",
   "execution_count": 311,
   "id": "instrumental-peripheral",
   "metadata": {},
   "outputs": [],
   "source": [
    "p_y_given_white = len(white[white[\"two_year_recid\"]==1])/len(white)"
   ]
  },
  {
   "cell_type": "code",
   "execution_count": 312,
   "id": "built-parts",
   "metadata": {},
   "outputs": [
    {
     "data": {
      "text/plain": [
       "0.12069679505498576"
      ]
     },
     "execution_count": 312,
     "metadata": {},
     "output_type": "execute_result"
    }
   ],
   "source": [
    "p_y_given_black - p_y_given_white"
   ]
  },
  {
   "cell_type": "markdown",
   "id": "frequent-bible",
   "metadata": {},
   "source": [
    "# Equal opportunity\n",
    "\n",
    "$P( \\hat{y} = 1 | S \\neq 1, y = 1) - P( \\hat{y} = 1 | S = 1, y = 1) \\leq \\epsilon$\n"
   ]
  },
  {
   "cell_type": "code",
   "execution_count": 316,
   "id": "gorgeous-tuition",
   "metadata": {},
   "outputs": [
    {
     "data": {
      "text/plain": [
       "0.26785714285714285"
      ]
     },
     "execution_count": 316,
     "metadata": {},
     "output_type": "execute_result"
    }
   ],
   "source": [
    "confusion_matrix(black[\"two_year_recid\"], black[\"prediction\"])[0,0]/len(black)"
   ]
  },
  {
   "cell_type": "code",
   "execution_count": 317,
   "id": "therapeutic-furniture",
   "metadata": {},
   "outputs": [
    {
     "data": {
      "text/plain": [
       "0.4641401792991035"
      ]
     },
     "execution_count": 317,
     "metadata": {},
     "output_type": "execute_result"
    }
   ],
   "source": [
    "confusion_matrix(white[\"two_year_recid\"], white[\"prediction\"])[0,0]/len(white)"
   ]
  },
  {
   "cell_type": "code",
   "execution_count": null,
   "id": "warming-nation",
   "metadata": {},
   "outputs": [],
   "source": []
  }
 ],
 "metadata": {
  "kernelspec": {
   "display_name": "Python 3",
   "language": "python",
   "name": "python3"
  },
  "language_info": {
   "codemirror_mode": {
    "name": "ipython",
    "version": 3
   },
   "file_extension": ".py",
   "mimetype": "text/x-python",
   "name": "python",
   "nbconvert_exporter": "python",
   "pygments_lexer": "ipython3",
   "version": "3.6.2"
  }
 },
 "nbformat": 4,
 "nbformat_minor": 5
}
